{
 "cells": [
  {
   "cell_type": "code",
   "execution_count": 39,
   "id": "1b0434db",
   "metadata": {},
   "outputs": [
    {
     "name": "stderr",
     "output_type": "stream",
     "text": [
      "C:\\Users\\risha\\AppData\\Local\\Temp\\ipykernel_7304\\440063689.py:2: DtypeWarning: Columns (0,1,5,6,8,9,10,12,13,14,15,16,17,18,19,20,21,22,23,26,27,28,29,30,31,32,33,34,35,36,37,38,39,40,41,42,43,44,45,46,47,48,49,50,51,52,53,54,55,56,57,58,59,60,61,62,63,64,65,66,67,68,69,70,71,72,73,74,75,76,77,78,79,80,81,82,83,84,85,86,87,88,89,90,91,92,93,94,95,96,97,98,99,100,101,102,103,104,105,106,107,108,109,110,111,112,113,114,115,116,117,118,119,120,121,122,123,124,125,126,127,128,129,130,131,132,133,134,135,136,137,138,139,140,141,142,143,144,145,146,147,148,149,150,151,152,153,154,155,156,157,158,159,160,161,162,163,164,165,166,167,168,169,170,171,172,173,174,175,176,177,178,179,180,181,182,183,184,185,186,187,188,189,190,191,192,193,194,195,196,197,198,199,200,201,202,203,204,205,206,207,208,209,210,211,212,213,214,215,216,217,218,219,220,221,222,223,224,225,226,227,228,229,230,231,232,233,234,235,236,237,238,239,240,241,242,243,244,245,246,247,248,249,250,251,252,253,254,255,256,257,258,259,260,261,262,263,264,265,266,267,268,269,270,271,272,273,274,275,276,277,278,279,280,281,282,283,284,285,286,287,288,289,290,291,292,293,294,295,296,297,298,299,300,301,302,303,304,305,306,307,308,309,310,311,312,313,314,315,316,317,318,319,320,321,322,323,324,325,326,327,328,329,330,331,332,333,334,335,336,337,338,339,340,341,342,343,344,345,346,347,348,349,350,351,352,353,354,355,356,357,358,359,360,361,362,363,364,365,366,367,368,369,370,371,372,373,374,375,376,377,378,379,380,381,382,383,384,385,386,387,388,389,390,391,392,393,394,395,396,397,398,399,400,401,402,403,404,405,406,407,408,409,410,411,412,413,414,415,416,417,418,419,420,421,422,423,424,425,426,427,428,429,430,431,432,433,434,435,436,437,438,439,440,441,442,443,444,445,446,447,448,449,450,451,452,453,454,455,456,457,458,459,460,461,462,463,464,465,466,467,468,469,470,471,472,473,474,475,476,477,478,479,480,481,482,483,484,485,486,487,488,489,490,491,492,493,494,495,496,497,498,499,500,501,502,503,504,505,506,507,508,509,510,511,512,513,514,515,516,517,518,519,520,521,522,523,524,525,526,527,528,529,530,531,532,533,534,535,536,537,538,539,540,541,542,543,544,545,546,547,548,549,550,551,552,553,554,555,556,557,558,559,560,561,562,563,564,565,566,567,568,569,570,571,572,573,574,575,576,577,578,579,580,581,582,583,584,585,586,587,588,589,590,591,592,593,594,595,596,597,598,599,600,601,602,603,604,605,606,607,608,609,610,611,612,613,614,615,616,617,618,619,620,621,622,623,624,625,626,627,628,629,630,631,632,633,634,635,636,637,638,639,640,641,642,643,644,645,646,647,648,649,650,651,652,653,654,655,656,657,658,659,660,661,662,663,664,665,666,667,668,669,670,671,672,673,674,675,676,677,678,679,680,681,682,683,684,685,686,687,688,689,690,691,692,693,694,695,696,697,698,699,700,701,702,703,704,705,706,707,708,709,710,711,712,713,714,715,716,717,718,719,720,721,722,723,724,725,726,727,728,729,730,731,732,733,734,735,736,737,738,739,740,741,742,743,744,745,746,747,748,749,750,751,752,753,754,755,756,757,758,759,760,761,762,763,764,765,766,767,768,769,770,771,772,773,774,775,776,777,778,779,780,781,782,783,784,785,786,787,788,789,790,791,792,793,794,795,796,797,798,799,800,801,802,803,804,805,806,807,808,809,810,811,812,813,814,815,816,817,818,819,820,821,822,823,824,825,826,827,828,829,830,831,832,833,834,835,836,837,838,839,840,841,842,843,844,845,846,847,848,849,850,851,852,853,854,855,856,857,858,859,860,861,862,863,864,865,866,867,868,869,870,871,872,873,874,875,876,877,878) have mixed types. Specify dtype option on import or set low_memory=False.\n",
      "  data = pd.read_csv('Assault_Dataset.csv', encoding='ISO-8859-1')\n"
     ]
    }
   ],
   "source": [
    "\n",
    "\n",
    "import pandas as pd\n",
    "data = pd.read_csv('Assault_Dataset.csv', encoding='ISO-8859-1')\n",
    "\n",
    "\n",
    "\n"
   ]
  },
  {
   "cell_type": "markdown",
   "id": "669c6e7d",
   "metadata": {},
   "source": [
    "# Loading and initial cleaning"
   ]
  },
  {
   "cell_type": "code",
   "execution_count": 40,
   "id": "e2b445a1",
   "metadata": {},
   "outputs": [],
   "source": [
    "\n",
    "\n",
    "threshold = 0.5  # 50% threshold for missing values\n",
    "columns_to_drop = data.isnull().sum()[data.isnull().sum() > threshold * len(data)].index\n",
    "data_cleaned = data.drop(columns=columns_to_drop)\n",
    "\n",
    "\n"
   ]
  },
  {
   "cell_type": "code",
   "execution_count": 41,
   "id": "93fb8da9",
   "metadata": {},
   "outputs": [],
   "source": [
    "# Replacing Placeholder Values ('.') with NaN && Removing Columns with More Than 90% Missing Values"
   ]
  },
  {
   "cell_type": "code",
   "execution_count": 42,
   "id": "b934e21f",
   "metadata": {},
   "outputs": [],
   "source": [
    "\n",
    "\n",
    "import numpy as np\n",
    "data_cleaned = data_cleaned.replace('.', np.nan)\n",
    "\n",
    "\n",
    "threshold_for_deletion = 0.9  # 90% threshold for missing values\n",
    "columns_to_delete = data_cleaned.columns[data_cleaned.isna().mean() > threshold_for_deletion]\n",
    "data_final_cleaned = data_cleaned.drop(columns=columns_to_delete)"
   ]
  },
  {
   "cell_type": "markdown",
   "id": "8f9cc433",
   "metadata": {},
   "source": [
    "# Data Transformation (Standardization and One-Hot Encoding)\n"
   ]
  },
  {
   "cell_type": "code",
   "execution_count": 43,
   "id": "f1807eec",
   "metadata": {},
   "outputs": [],
   "source": [
    "from sklearn.compose import ColumnTransformer\n",
    "from sklearn.pipeline import Pipeline\n",
    "from sklearn.preprocessing import StandardScaler, OneHotEncoder\n",
    "from sklearn.impute import SimpleImputer\n",
    "\n",
    "numerical_features = data_final_cleaned.select_dtypes(include=['float64', 'int64']).columns.tolist()\n",
    "categorical_features = data_final_cleaned.select_dtypes(include=['object']).columns.tolist()\n",
    "\n",
    "numerical_transformer = Pipeline(steps=[\n",
    "    ('imputer', SimpleImputer(strategy='mean')),\n",
    "    ('scaler', StandardScaler())\n",
    "])\n",
    "\n",
    "categorical_transformer = Pipeline(steps=[\n",
    "    ('imputer', SimpleImputer(strategy='constant', fill_value='missing')),\n",
    "    ('onehot', OneHotEncoder(handle_unknown='ignore'))\n",
    "])\n",
    "\n",
    "preprocessor = ColumnTransformer(\n",
    "    transformers=[\n",
    "        ('num', numerical_transformer, numerical_features),\n",
    "        ('cat', categorical_transformer, categorical_features)\n",
    "    ])\n",
    "\n",
    "X_transformed = preprocessor.fit_transform(data_final_cleaned)"
   ]
  },
  {
   "cell_type": "markdown",
   "id": "7ffdf224",
   "metadata": {},
   "source": [
    "# Preprocessing pipelines"
   ]
  },
  {
   "cell_type": "code",
   "execution_count": 44,
   "id": "d43ac34d",
   "metadata": {},
   "outputs": [],
   "source": [
    "# Saving the Final Cleaned Dataset to a CSV File\n",
    "\n",
    "final_cleaned_data_file_path = 'final_cleaned_rochester_assault_data.csv'\n",
    "data_final_cleaned.to_csv(final_cleaned_data_file_path, index=False)\n",
    "\n",
    "\n"
   ]
  },
  {
   "cell_type": "markdown",
   "id": "4f2475f7",
   "metadata": {},
   "source": [
    "# Applying preprocessing"
   ]
  },
  {
   "cell_type": "code",
   "execution_count": 45,
   "id": "167313e3",
   "metadata": {
    "scrolled": true
   },
   "outputs": [
    {
     "name": "stderr",
     "output_type": "stream",
     "text": [
      "C:\\Users\\risha\\AppData\\Local\\Temp\\ipykernel_7304\\736509032.py:1: DtypeWarning: Columns (0,1,5,6,7,8,9,10,11,19,20,22,23,24,25,26,33,34,37,45,47,48,49,50,51,52,53,68,81,84,86,87,88,89,90,93,94,95,96,97,98,99,100,104,107,108,109,110,111,112,113,114,115,116,119,120,121,122,160,161,165,166,167,168,172,173,174,175,176,177,178,179,180,191,195,196,197,198,199,200,201,202,203,204,207,208,209,210,211,229,252,253,254,255,256,260,261,262,263,266,267,268) have mixed types. Specify dtype option on import or set low_memory=False.\n",
      "  data_processed = pd.read_csv(final_cleaned_data_file_path)\n"
     ]
    }
   ],
   "source": [
    "data_processed = pd.read_csv(final_cleaned_data_file_path)\n"
   ]
  },
  {
   "cell_type": "code",
   "execution_count": 46,
   "id": "9d1ec1cd",
   "metadata": {},
   "outputs": [],
   "source": [
    "# Separate Numeric and Categorical Data"
   ]
  },
  {
   "cell_type": "code",
   "execution_count": 47,
   "id": "7f83d56c",
   "metadata": {},
   "outputs": [],
   "source": [
    "numeric_data = data_processed.select_dtypes(include=['int64', 'float64'])\n",
    "categorical_data = data_processed.select_dtypes(exclude=['int64', 'float64'])\n"
   ]
  },
  {
   "cell_type": "code",
   "execution_count": 48,
   "id": "ee482cfa",
   "metadata": {},
   "outputs": [],
   "source": [
    "#Impute Missing Values in Numeric Data"
   ]
  },
  {
   "cell_type": "code",
   "execution_count": 49,
   "id": "e2d09d71",
   "metadata": {},
   "outputs": [],
   "source": [
    "from sklearn.impute import SimpleImputer\n",
    "imputer = SimpleImputer(strategy='median')\n",
    "numeric_data_imputed = pd.DataFrame(imputer.fit_transform(numeric_data), columns=numeric_data.columns)\n"
   ]
  },
  {
   "cell_type": "code",
   "execution_count": 50,
   "id": "d6b9f96b",
   "metadata": {},
   "outputs": [],
   "source": [
    "# Scale Numeric Data"
   ]
  },
  {
   "cell_type": "code",
   "execution_count": 51,
   "id": "9ddae154",
   "metadata": {
    "scrolled": true
   },
   "outputs": [],
   "source": [
    "from sklearn.preprocessing import MinMaxScaler\n",
    "scaler = MinMaxScaler()\n",
    "numeric_data_scaled = pd.DataFrame(scaler.fit_transform(numeric_data_imputed), columns=numeric_data.columns)\n"
   ]
  },
  {
   "cell_type": "code",
   "execution_count": 52,
   "id": "90c5a6e7",
   "metadata": {},
   "outputs": [],
   "source": [
    "# Apply PCA to Numeric Data"
   ]
  },
  {
   "cell_type": "code",
   "execution_count": 53,
   "id": "0be3aeca",
   "metadata": {},
   "outputs": [],
   "source": [
    "from sklearn.decomposition import PCA\n",
    "pca = PCA(n_components=0.95)\n",
    "numeric_data_pca = pca.fit_transform(numeric_data_scaled)\n",
    "pca_columns = ['PCA_Component_' + str(i) for i in range(numeric_data_pca.shape[1])]\n",
    "numeric_data_pca_df = pd.DataFrame(numeric_data_pca, columns=pca_columns)\n"
   ]
  },
  {
   "cell_type": "code",
   "execution_count": 54,
   "id": "e8d29d00",
   "metadata": {},
   "outputs": [],
   "source": [
    "# Combine PCA-Transformed Numeric Data with Categorical Data"
   ]
  },
  {
   "cell_type": "code",
   "execution_count": 55,
   "id": "2faf5986",
   "metadata": {},
   "outputs": [],
   "source": [
    "data_combined = pd.concat([numeric_data_pca_df.reset_index(drop=True), categorical_data.reset_index(drop=True)], axis=1)\n"
   ]
  },
  {
   "cell_type": "code",
   "execution_count": 56,
   "id": "f7d0e61b",
   "metadata": {},
   "outputs": [],
   "source": [
    "# Save the Processed Dataset"
   ]
  },
  {
   "cell_type": "code",
   "execution_count": 57,
   "id": "409029f7",
   "metadata": {},
   "outputs": [],
   "source": [
    "processed_data_file_path = 'processed_rochester_assault_data.csv'\n",
    "data_combined.to_csv(processed_data_file_path, index=False)\n"
   ]
  },
  {
   "cell_type": "code",
   "execution_count": null,
   "id": "575f9e3e",
   "metadata": {},
   "outputs": [],
   "source": []
  }
 ],
 "metadata": {
  "kernelspec": {
   "display_name": "Python 3 (ipykernel)",
   "language": "python",
   "name": "python3"
  },
  "language_info": {
   "codemirror_mode": {
    "name": "ipython",
    "version": 3
   },
   "file_extension": ".py",
   "mimetype": "text/x-python",
   "name": "python",
   "nbconvert_exporter": "python",
   "pygments_lexer": "ipython3",
   "version": "3.11.5"
  }
 },
 "nbformat": 4,
 "nbformat_minor": 5
}
